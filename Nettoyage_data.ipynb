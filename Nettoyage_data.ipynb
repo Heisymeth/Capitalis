{
 "cells": [
  {
   "cell_type": "code",
   "execution_count": 3,
   "metadata": {},
   "outputs": [
    {
     "data": {
      "text/html": [
       "<div>\n",
       "<style scoped>\n",
       "    .dataframe tbody tr th:only-of-type {\n",
       "        vertical-align: middle;\n",
       "    }\n",
       "\n",
       "    .dataframe tbody tr th {\n",
       "        vertical-align: top;\n",
       "    }\n",
       "\n",
       "    .dataframe thead th {\n",
       "        text-align: right;\n",
       "    }\n",
       "</style>\n",
       "<table border=\"1\" class=\"dataframe\">\n",
       "  <thead>\n",
       "    <tr style=\"text-align: right;\">\n",
       "      <th></th>\n",
       "      <th>NOM</th>\n",
       "      <th>NOM_ALPHA</th>\n",
       "      <th>CODE</th>\n",
       "      <th>ARTICLE</th>\n",
       "      <th>NOM_LONG</th>\n",
       "      <th>CAPITALE</th>\n",
       "    </tr>\n",
       "  </thead>\n",
       "  <tbody>\n",
       "    <tr>\n",
       "      <th>0</th>\n",
       "      <td>Afghanistan</td>\n",
       "      <td>Afghanistan</td>\n",
       "      <td>AFG</td>\n",
       "      <td>l'</td>\n",
       "      <td>République islamique d'Afghanistan</td>\n",
       "      <td>Kaboul</td>\n",
       "    </tr>\n",
       "    <tr>\n",
       "      <th>1</th>\n",
       "      <td>Afrique du Sud</td>\n",
       "      <td>Afrique du Sud</td>\n",
       "      <td>ZAF</td>\n",
       "      <td>l'</td>\n",
       "      <td>République d'Afrique du Sud</td>\n",
       "      <td>Prétoria</td>\n",
       "    </tr>\n",
       "    <tr>\n",
       "      <th>2</th>\n",
       "      <td>Albanie</td>\n",
       "      <td>Albanie</td>\n",
       "      <td>ALB</td>\n",
       "      <td>l'</td>\n",
       "      <td>République d'Albanie</td>\n",
       "      <td>Tirana</td>\n",
       "    </tr>\n",
       "    <tr>\n",
       "      <th>3</th>\n",
       "      <td>Algérie</td>\n",
       "      <td>Algérie</td>\n",
       "      <td>DZA</td>\n",
       "      <td>l'</td>\n",
       "      <td>République algérienne démocratique et populaire</td>\n",
       "      <td>Alger</td>\n",
       "    </tr>\n",
       "    <tr>\n",
       "      <th>4</th>\n",
       "      <td>Allemagne</td>\n",
       "      <td>Allemagne</td>\n",
       "      <td>DEU</td>\n",
       "      <td>l'</td>\n",
       "      <td>République fédérale d'Allemagne</td>\n",
       "      <td>Berlin</td>\n",
       "    </tr>\n",
       "  </tbody>\n",
       "</table>\n",
       "</div>"
      ],
      "text/plain": [
       "              NOM       NOM_ALPHA CODE ARTICLE  \\\n",
       "0     Afghanistan     Afghanistan  AFG      l'   \n",
       "1  Afrique du Sud  Afrique du Sud  ZAF      l'   \n",
       "2         Albanie         Albanie  ALB      l'   \n",
       "3         Algérie         Algérie  DZA      l'   \n",
       "4       Allemagne       Allemagne  DEU      l'   \n",
       "\n",
       "                                          NOM_LONG  CAPITALE  \n",
       "0               République islamique d'Afghanistan    Kaboul  \n",
       "1                      République d'Afrique du Sud  Prétoria  \n",
       "2                             République d'Albanie    Tirana  \n",
       "3  République algérienne démocratique et populaire     Alger  \n",
       "4                  République fédérale d'Allemagne    Berlin  "
      ]
     },
     "execution_count": 3,
     "metadata": {},
     "output_type": "execute_result"
    }
   ],
   "source": [
    "import pandas as pd\n",
    "import numpy as np\n",
    "\n",
    "df = pd.read_csv('liste.csv', sep=';', encoding='latin-1')\n",
    "\n",
    "df.head()"
   ]
  },
  {
   "cell_type": "code",
   "execution_count": 6,
   "metadata": {},
   "outputs": [],
   "source": [
    "df = df.drop(['NOM_ALPHA', 'CODE', 'ARTICLE', 'NOM_LONG'], axis=1)\n"
   ]
  },
  {
   "cell_type": "code",
   "execution_count": 10,
   "metadata": {},
   "outputs": [
    {
     "data": {
      "text/html": [
       "<div>\n",
       "<style scoped>\n",
       "    .dataframe tbody tr th:only-of-type {\n",
       "        vertical-align: middle;\n",
       "    }\n",
       "\n",
       "    .dataframe tbody tr th {\n",
       "        vertical-align: top;\n",
       "    }\n",
       "\n",
       "    .dataframe thead th {\n",
       "        text-align: right;\n",
       "    }\n",
       "</style>\n",
       "<table border=\"1\" class=\"dataframe\">\n",
       "  <thead>\n",
       "    <tr style=\"text-align: right;\">\n",
       "      <th></th>\n",
       "      <th>NOM</th>\n",
       "      <th>CAPITALE</th>\n",
       "    </tr>\n",
       "  </thead>\n",
       "  <tbody>\n",
       "    <tr>\n",
       "      <th>87</th>\n",
       "      <td>Israël</td>\n",
       "      <td>NaN</td>\n",
       "    </tr>\n",
       "    <tr>\n",
       "      <th>191</th>\n",
       "      <td>Vatican</td>\n",
       "      <td>NaN</td>\n",
       "    </tr>\n",
       "  </tbody>\n",
       "</table>\n",
       "</div>"
      ],
      "text/plain": [
       "         NOM CAPITALE\n",
       "87    Israël      NaN\n",
       "191  Vatican      NaN"
      ]
     },
     "execution_count": 10,
     "metadata": {},
     "output_type": "execute_result"
    }
   ],
   "source": [
    "na_df = df[df.isna().any(axis=1)]\n",
    "na_df"
   ]
  },
  {
   "cell_type": "code",
   "execution_count": 11,
   "metadata": {},
   "outputs": [],
   "source": [
    "df.to_csv(\"liste_clean.csv\")"
   ]
  }
 ],
 "metadata": {
  "kernelspec": {
   "display_name": "Python 3",
   "language": "python",
   "name": "python3"
  },
  "language_info": {
   "codemirror_mode": {
    "name": "ipython",
    "version": 3
   },
   "file_extension": ".py",
   "mimetype": "text/x-python",
   "name": "python",
   "nbconvert_exporter": "python",
   "pygments_lexer": "ipython3",
   "version": "3.10.11"
  },
  "orig_nbformat": 4
 },
 "nbformat": 4,
 "nbformat_minor": 2
}
